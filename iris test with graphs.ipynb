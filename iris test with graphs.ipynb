{
 "cells": [
  {
   "cell_type": "markdown",
   "metadata": {},
   "source": [
    "In this project I have used one of the most popular data set in the Machine Learning Community the \"\"Iris Data Set\"\n",
    "\n",
    "This code is just to play around with one of the most popular algorithms like KNN and SVC.\n",
    "\n",
    "And the important thing is, here some part of the codes were hard-coded for those who are going to learn Python as a beginner\n",
    "\n",
    "Thank You !!!"
   ]
  },
  {
   "cell_type": "code",
   "execution_count": 1,
   "metadata": {},
   "outputs": [],
   "source": [
    "#At the begining, all the necessary modules are included\n",
    "import os\n",
    "import numpy as np\n",
    "import matplotlib.pyplot as plt"
   ]
  },
  {
   "cell_type": "code",
   "execution_count": 2,
   "metadata": {},
   "outputs": [],
   "source": [
    "#find out what is your current directory\n",
    "dir_path = os.getcwd()"
   ]
  },
  {
   "cell_type": "code",
   "execution_count": 3,
   "metadata": {},
   "outputs": [
    {
     "name": "stdout",
     "output_type": "stream",
     "text": [
      "C:\\Users\\Buddhika Abeysekera\\Desktop\\Jupyter\\iris_txt.txt\n"
     ]
    }
   ],
   "source": [
    "#This command can be used to combine a file name with the directory without any problems.\n",
    "#Because most of the times you have to re-arrange your directory path with back-slash or doublled slash\n",
    "file_path = os.path.join(dir_path, 'iris_txt.txt')\n",
    "print(file_path)"
   ]
  },
  {
   "cell_type": "code",
   "execution_count": 80,
   "metadata": {},
   "outputs": [
    {
     "name": "stdout",
     "output_type": "stream",
     "text": [
      "[['5.1' '3.5' '1.4' '0.2' '0']\n",
      " ['4.9' '3' '1.4' '0.2' '0']\n",
      " ['4.7' '3.2' '1.3' '0.2' '0']\n",
      " ['4.6' '3.1' '1.5' '0.2' '0']\n",
      " ['5' '3.6' '1.4' '0.2' '0']\n",
      " ['5.4' '3.9' '1.7' '0.4' '0']\n",
      " ['4.6' '3.4' '1.4' '0.3' '0']\n",
      " ['5' '3.4' '1.5' '0.2' '0']\n",
      " ['4.4' '2.9' '1.4' '0.2' '0']\n",
      " ['4.9' '3.1' '1.5' '0.1' '0']\n",
      " ['5.4' '3.7' '1.5' '0.2' '0']\n",
      " ['4.8' '3.4' '1.6' '0.2' '0']\n",
      " ['4.8' '3' '1.4' '0.1' '0']\n",
      " ['4.3' '3' '1.1' '0.1' '0']\n",
      " ['5.8' '4' '1.2' '0.2' '0']\n",
      " ['5.7' '4.4' '1.5' '0.4' '0']\n",
      " ['5.4' '3.9' '1.3' '0.4' '0']\n",
      " ['5.1' '3.5' '1.4' '0.3' '0']\n",
      " ['5.7' '3.8' '1.7' '0.3' '0']\n",
      " ['5.1' '3.8' '1.5' '0.3' '0']\n",
      " ['5.4' '3.4' '1.7' '0.2' '0']\n",
      " ['5.1' '3.7' '1.5' '0.4' '0']\n",
      " ['4.6' '3.6' '1' '0.2' '0']\n",
      " ['5.1' '3.3' '1.7' '0.5' '0']\n",
      " ['4.8' '3.4' '1.9' '0.2' '0']\n",
      " ['5' '3' '1.6' '0.2' '0']\n",
      " ['5' '3.4' '1.6' '0.4' '0']\n",
      " ['5.2' '3.5' '1.5' '0.2' '0']\n",
      " ['5.2' '3.4' '1.4' '0.2' '0']\n",
      " ['4.7' '3.2' '1.6' '0.2' '0']\n",
      " ['4.8' '3.1' '1.6' '0.2' '0']\n",
      " ['5.4' '3.4' '1.5' '0.4' '0']\n",
      " ['5.2' '4.1' '1.5' '0.1' '0']\n",
      " ['5.5' '4.2' '1.4' '0.2' '0']\n",
      " ['4.9' '3.1' '1.5' '0.1' '0']\n",
      " ['5' '3.2' '1.2' '0.2' '0']\n",
      " ['5.5' '3.5' '1.3' '0.2' '0']\n",
      " ['4.9' '3.1' '1.5' '0.1' '0']\n",
      " ['4.4' '3' '1.3' '0.2' '0']\n",
      " ['5.1' '3.4' '1.5' '0.2' '0']\n",
      " ['5' '3.5' '1.3' '0.3' '0']\n",
      " ['4.5' '2.3' '1.3' '0.3' '0']\n",
      " ['4.4' '3.2' '1.3' '0.2' '0']\n",
      " ['5' '3.5' '1.6' '0.6' '0']\n",
      " ['5.1' '3.8' '1.9' '0.4' '0']\n",
      " ['4.8' '3' '1.4' '0.3' '0']\n",
      " ['5.1' '3.8' '1.6' '0.2' '0']\n",
      " ['4.6' '3.2' '1.4' '0.2' '0']\n",
      " ['5.3' '3.7' '1.5' '0.2' '0']\n",
      " ['5' '3.3' '1.4' '0.2' '0']\n",
      " ['7' '3.2' '4.7' '1.4' '1']\n",
      " ['6.4' '3.2' '4.5' '1.5' '1']\n",
      " ['6.9' '3.1' '4.9' '1.5' '1']\n",
      " ['5.5' '2.3' '4' '1.3' '1']\n",
      " ['6.5' '2.8' '4.6' '1.5' '1']\n",
      " ['5.7' '2.8' '4.5' '1.3' '1']\n",
      " ['6.3' '3.3' '4.7' '1.6' '1']\n",
      " ['4.9' '2.4' '3.3' '1' '1']\n",
      " ['6.6' '2.9' '4.6' '1.3' '1']\n",
      " ['5.2' '2.7' '3.9' '1.4' '1']\n",
      " ['5' '2' '3.5' '1' '1']\n",
      " ['5.9' '3' '4.2' '1.5' '1']\n",
      " ['6' '2.2' '4' '1' '1']\n",
      " ['6.1' '2.9' '4.7' '1.4' '1']\n",
      " ['5.6' '2.9' '3.6' '1.3' '1']\n",
      " ['6.7' '3.1' '4.4' '1.4' '1']\n",
      " ['5.6' '3' '4.5' '1.5' '1']\n",
      " ['5.8' '2.7' '4.1' '1' '1']\n",
      " ['6.2' '2.2' '4.5' '1.5' '1']\n",
      " ['5.6' '2.5' '3.9' '1.1' '1']\n",
      " ['5.9' '3.2' '4.8' '1.8' '1']\n",
      " ['6.1' '2.8' '4' '1.3' '1']\n",
      " ['6.3' '2.5' '4.9' '1.5' '1']\n",
      " ['6.1' '2.8' '4.7' '1.2' '1']\n",
      " ['6.4' '2.9' '4.3' '1.3' '1']\n",
      " ['6.6' '3' '4.4' '1.4' '1']\n",
      " ['6.8' '2.8' '4.8' '1.4' '1']\n",
      " ['6.7' '3' '5' '1.7' '1']\n",
      " ['6' '2.9' '4.5' '1.5' '1']\n",
      " ['5.7' '2.6' '3.5' '1' '1']\n",
      " ['5.5' '2.4' '3.8' '1.1' '1']\n",
      " ['5.5' '2.4' '3.7' '1' '1']\n",
      " ['5.8' '2.7' '3.9' '1.2' '1']\n",
      " ['6' '2.7' '5.1' '1.6' '1']\n",
      " ['5.4' '3' '4.5' '1.5' '1']\n",
      " ['6' '3.4' '4.5' '1.6' '1']\n",
      " ['6.7' '3.1' '4.7' '1.5' '1']\n",
      " ['6.3' '2.3' '4.4' '1.3' '1']\n",
      " ['5.6' '3' '4.1' '1.3' '1']\n",
      " ['5.5' '2.5' '4' '1.3' '1']\n",
      " ['5.5' '2.6' '4.4' '1.2' '1']\n",
      " ['6.1' '3' '4.6' '1.4' '1']\n",
      " ['5.8' '2.6' '4' '1.2' '1']\n",
      " ['5' '2.3' '3.3' '1' '1']\n",
      " ['5.6' '2.7' '4.2' '1.3' '1']\n",
      " ['5.7' '3' '4.2' '1.2' '1']\n",
      " ['5.7' '2.9' '4.2' '1.3' '1']\n",
      " ['6.2' '2.9' '4.3' '1.3' '1']\n",
      " ['5.1' '2.5' '3' '1.1' '1']\n",
      " ['5.7' '2.8' '4.1' '1.3' '1']\n",
      " ['6.3' '3.3' '6' '2.5' '2']\n",
      " ['5.8' '2.7' '5.1' '1.9' '2']\n",
      " ['7.1' '3' '5.9' '2.1' '2']\n",
      " ['6.3' '2.9' '5.6' '1.8' '2']\n",
      " ['6.5' '3' '5.8' '2.2' '2']\n",
      " ['7.6' '3' '6.6' '2.1' '2']\n",
      " ['4.9' '2.5' '4.5' '1.7' '2']\n",
      " ['7.3' '2.9' '6.3' '1.8' '2']\n",
      " ['6.7' '2.5' '5.8' '1.8' '2']\n",
      " ['7.2' '3.6' '6.1' '2.5' '2']\n",
      " ['6.5' '3.2' '5.1' '2' '2']\n",
      " ['6.4' '2.7' '5.3' '1.9' '2']\n",
      " ['6.8' '3' '5.5' '2.1' '2']\n",
      " ['5.7' '2.5' '5' '2' '2']\n",
      " ['5.8' '2.8' '5.1' '2.4' '2']\n",
      " ['6.4' '3.2' '5.3' '2.3' '2']\n",
      " ['6.5' '3' '5.5' '1.8' '2']\n",
      " ['7.7' '3.8' '6.7' '2.2' '2']\n",
      " ['7.7' '2.6' '6.9' '2.3' '2']\n",
      " ['6' '2.2' '5' '1.5' '2']\n",
      " ['6.9' '3.2' '5.7' '2.3' '2']\n",
      " ['5.6' '2.8' '4.9' '2' '2']\n",
      " ['7.7' '2.8' '6.7' '2' '2']\n",
      " ['6.3' '2.7' '4.9' '1.8' '2']\n",
      " ['6.7' '3.3' '5.7' '2.1' '2']\n",
      " ['7.2' '3.2' '6' '1.8' '2']\n",
      " ['6.2' '2.8' '4.8' '1.8' '2']\n",
      " ['6.1' '3' '4.9' '1.8' '2']\n",
      " ['6.4' '2.8' '5.6' '2.1' '2']\n",
      " ['7.2' '3' '5.8' '1.6' '2']\n",
      " ['7.4' '2.8' '6.1' '1.9' '2']\n",
      " ['7.9' '3.8' '6.4' '2' '2']\n",
      " ['6.4' '2.8' '5.6' '2.2' '2']\n",
      " ['6.3' '2.8' '5.1' '1.5' '2']\n",
      " ['6.1' '2.6' '5.6' '1.4' '2']\n",
      " ['7.7' '3' '6.1' '2.3' '2']\n",
      " ['6.3' '3.4' '5.6' '2.4' '2']\n",
      " ['6.4' '3.1' '5.5' '1.8' '2']\n",
      " ['6' '3' '4.8' '1.8' '2']\n",
      " ['6.9' '3.1' '5.4' '2.1' '2']\n",
      " ['6.7' '3.1' '5.6' '2.4' '2']\n",
      " ['6.9' '3.1' '5.1' '2.3' '2']\n",
      " ['5.8' '2.7' '5.1' '1.9' '2']\n",
      " ['6.8' '3.2' '5.9' '2.3' '2']\n",
      " ['6.7' '3.3' '5.7' '2.5' '2']\n",
      " ['6.7' '3' '5.2' '2.3' '2']\n",
      " ['6.3' '2.5' '5' '1.9' '2']\n",
      " ['6.5' '3' '5.2' '2' '2']\n",
      " ['6.2' '3.4' '5.4' '2.3' '2']\n",
      " ['5.9' '3' '5.1' '1.8' '2']]\n"
     ]
    }
   ],
   "source": [
    "''' To open the file, here I have used \"with open()\" method. This is to reduce the number of code lines.'''\n",
    "with open(file_path, 'r') as f:\n",
    "    iris_raw_data = f.read().splitlines() # In this code the \\n\\r are removed to store the data in the array\n",
    "    del iris_raw_data[0] # This code delete the first line (titles of the columns)\n",
    "    iris_trim_data  = np.array([]) # Create a numpy empty array\n",
    "    for val in iris_raw_data: # Itterate through the previous array (iris_raw_data) to remove delimiter\n",
    "        iris_trim_data = np.append(iris_trim_data, val.split('\\t'), axis = 0)\n",
    "l = len(iris_trim_data)/5 # To reshape the array, length of the array is devided into 5 as we have 5 data columns.\n",
    "iris = iris_trim_data.reshape(int(l), 5) # Reshape the array.\n",
    "print(iris)"
   ]
  },
  {
   "cell_type": "code",
   "execution_count": 5,
   "metadata": {},
   "outputs": [
    {
     "name": "stdout",
     "output_type": "stream",
     "text": [
      "[[5.1 3.5 1.4 0.2]\n",
      " [4.9 3.  1.4 0.2]\n",
      " [4.7 3.2 1.3 0.2]\n",
      " [4.6 3.1 1.5 0.2]\n",
      " [5.  3.6 1.4 0.2]\n",
      " [5.4 3.9 1.7 0.4]\n",
      " [4.6 3.4 1.4 0.3]\n",
      " [5.  3.4 1.5 0.2]\n",
      " [4.4 2.9 1.4 0.2]\n",
      " [4.9 3.1 1.5 0.1]\n",
      " [5.4 3.7 1.5 0.2]\n",
      " [4.8 3.4 1.6 0.2]\n",
      " [4.8 3.  1.4 0.1]\n",
      " [4.3 3.  1.1 0.1]\n",
      " [5.8 4.  1.2 0.2]\n",
      " [5.7 4.4 1.5 0.4]\n",
      " [5.4 3.9 1.3 0.4]\n",
      " [5.1 3.5 1.4 0.3]\n",
      " [5.7 3.8 1.7 0.3]\n",
      " [5.1 3.8 1.5 0.3]\n",
      " [5.4 3.4 1.7 0.2]\n",
      " [5.1 3.7 1.5 0.4]\n",
      " [4.6 3.6 1.  0.2]\n",
      " [5.1 3.3 1.7 0.5]\n",
      " [4.8 3.4 1.9 0.2]\n",
      " [5.  3.  1.6 0.2]\n",
      " [5.  3.4 1.6 0.4]\n",
      " [5.2 3.5 1.5 0.2]\n",
      " [5.2 3.4 1.4 0.2]\n",
      " [4.7 3.2 1.6 0.2]\n",
      " [4.8 3.1 1.6 0.2]\n",
      " [5.4 3.4 1.5 0.4]\n",
      " [5.2 4.1 1.5 0.1]\n",
      " [5.5 4.2 1.4 0.2]\n",
      " [4.9 3.1 1.5 0.1]\n",
      " [5.  3.2 1.2 0.2]\n",
      " [5.5 3.5 1.3 0.2]\n",
      " [4.9 3.1 1.5 0.1]\n",
      " [4.4 3.  1.3 0.2]\n",
      " [5.1 3.4 1.5 0.2]\n",
      " [5.  3.5 1.3 0.3]\n",
      " [4.5 2.3 1.3 0.3]\n",
      " [4.4 3.2 1.3 0.2]\n",
      " [5.  3.5 1.6 0.6]\n",
      " [5.1 3.8 1.9 0.4]\n",
      " [4.8 3.  1.4 0.3]\n",
      " [5.1 3.8 1.6 0.2]\n",
      " [4.6 3.2 1.4 0.2]\n",
      " [5.3 3.7 1.5 0.2]\n",
      " [5.  3.3 1.4 0.2]\n",
      " [7.  3.2 4.7 1.4]\n",
      " [6.4 3.2 4.5 1.5]\n",
      " [6.9 3.1 4.9 1.5]\n",
      " [5.5 2.3 4.  1.3]\n",
      " [6.5 2.8 4.6 1.5]\n",
      " [5.7 2.8 4.5 1.3]\n",
      " [6.3 3.3 4.7 1.6]\n",
      " [4.9 2.4 3.3 1. ]\n",
      " [6.6 2.9 4.6 1.3]\n",
      " [5.2 2.7 3.9 1.4]\n",
      " [5.  2.  3.5 1. ]\n",
      " [5.9 3.  4.2 1.5]\n",
      " [6.  2.2 4.  1. ]\n",
      " [6.1 2.9 4.7 1.4]\n",
      " [5.6 2.9 3.6 1.3]\n",
      " [6.7 3.1 4.4 1.4]\n",
      " [5.6 3.  4.5 1.5]\n",
      " [5.8 2.7 4.1 1. ]\n",
      " [6.2 2.2 4.5 1.5]\n",
      " [5.6 2.5 3.9 1.1]\n",
      " [5.9 3.2 4.8 1.8]\n",
      " [6.1 2.8 4.  1.3]\n",
      " [6.3 2.5 4.9 1.5]\n",
      " [6.1 2.8 4.7 1.2]\n",
      " [6.4 2.9 4.3 1.3]\n",
      " [6.6 3.  4.4 1.4]\n",
      " [6.8 2.8 4.8 1.4]\n",
      " [6.7 3.  5.  1.7]\n",
      " [6.  2.9 4.5 1.5]\n",
      " [5.7 2.6 3.5 1. ]\n",
      " [5.5 2.4 3.8 1.1]\n",
      " [5.5 2.4 3.7 1. ]\n",
      " [5.8 2.7 3.9 1.2]\n",
      " [6.  2.7 5.1 1.6]\n",
      " [5.4 3.  4.5 1.5]\n",
      " [6.  3.4 4.5 1.6]\n",
      " [6.7 3.1 4.7 1.5]\n",
      " [6.3 2.3 4.4 1.3]\n",
      " [5.6 3.  4.1 1.3]\n",
      " [5.5 2.5 4.  1.3]\n",
      " [5.5 2.6 4.4 1.2]\n",
      " [6.1 3.  4.6 1.4]\n",
      " [5.8 2.6 4.  1.2]\n",
      " [5.  2.3 3.3 1. ]\n",
      " [5.6 2.7 4.2 1.3]\n",
      " [5.7 3.  4.2 1.2]\n",
      " [5.7 2.9 4.2 1.3]\n",
      " [6.2 2.9 4.3 1.3]\n",
      " [5.1 2.5 3.  1.1]\n",
      " [5.7 2.8 4.1 1.3]\n",
      " [6.3 3.3 6.  2.5]\n",
      " [5.8 2.7 5.1 1.9]\n",
      " [7.1 3.  5.9 2.1]\n",
      " [6.3 2.9 5.6 1.8]\n",
      " [6.5 3.  5.8 2.2]\n",
      " [7.6 3.  6.6 2.1]\n",
      " [4.9 2.5 4.5 1.7]\n",
      " [7.3 2.9 6.3 1.8]\n",
      " [6.7 2.5 5.8 1.8]\n",
      " [7.2 3.6 6.1 2.5]\n",
      " [6.5 3.2 5.1 2. ]\n",
      " [6.4 2.7 5.3 1.9]\n",
      " [6.8 3.  5.5 2.1]\n",
      " [5.7 2.5 5.  2. ]\n",
      " [5.8 2.8 5.1 2.4]\n",
      " [6.4 3.2 5.3 2.3]\n",
      " [6.5 3.  5.5 1.8]\n",
      " [7.7 3.8 6.7 2.2]\n",
      " [7.7 2.6 6.9 2.3]\n",
      " [6.  2.2 5.  1.5]\n",
      " [6.9 3.2 5.7 2.3]\n",
      " [5.6 2.8 4.9 2. ]\n",
      " [7.7 2.8 6.7 2. ]\n",
      " [6.3 2.7 4.9 1.8]\n",
      " [6.7 3.3 5.7 2.1]\n",
      " [7.2 3.2 6.  1.8]\n",
      " [6.2 2.8 4.8 1.8]\n",
      " [6.1 3.  4.9 1.8]\n",
      " [6.4 2.8 5.6 2.1]\n",
      " [7.2 3.  5.8 1.6]\n",
      " [7.4 2.8 6.1 1.9]\n",
      " [7.9 3.8 6.4 2. ]\n",
      " [6.4 2.8 5.6 2.2]\n",
      " [6.3 2.8 5.1 1.5]\n",
      " [6.1 2.6 5.6 1.4]\n",
      " [7.7 3.  6.1 2.3]\n",
      " [6.3 3.4 5.6 2.4]\n",
      " [6.4 3.1 5.5 1.8]\n",
      " [6.  3.  4.8 1.8]\n",
      " [6.9 3.1 5.4 2.1]\n",
      " [6.7 3.1 5.6 2.4]\n",
      " [6.9 3.1 5.1 2.3]\n",
      " [5.8 2.7 5.1 1.9]\n",
      " [6.8 3.2 5.9 2.3]\n",
      " [6.7 3.3 5.7 2.5]\n",
      " [6.7 3.  5.2 2.3]\n",
      " [6.3 2.5 5.  1.9]\n",
      " [6.5 3.  5.2 2. ]\n",
      " [6.2 3.4 5.4 2.3]\n",
      " [5.9 3.  5.1 1.8]] [0. 0. 0. 0. 0. 0. 0. 0. 0. 0. 0. 0. 0. 0. 0. 0. 0. 0. 0. 0. 0. 0. 0. 0.\n",
      " 0. 0. 0. 0. 0. 0. 0. 0. 0. 0. 0. 0. 0. 0. 0. 0. 0. 0. 0. 0. 0. 0. 0. 0.\n",
      " 0. 0. 1. 1. 1. 1. 1. 1. 1. 1. 1. 1. 1. 1. 1. 1. 1. 1. 1. 1. 1. 1. 1. 1.\n",
      " 1. 1. 1. 1. 1. 1. 1. 1. 1. 1. 1. 1. 1. 1. 1. 1. 1. 1. 1. 1. 1. 1. 1. 1.\n",
      " 1. 1. 1. 1. 2. 2. 2. 2. 2. 2. 2. 2. 2. 2. 2. 2. 2. 2. 2. 2. 2. 2. 2. 2.\n",
      " 2. 2. 2. 2. 2. 2. 2. 2. 2. 2. 2. 2. 2. 2. 2. 2. 2. 2. 2. 2. 2. 2. 2. 2.\n",
      " 2. 2. 2. 2. 2. 2.]\n"
     ]
    }
   ],
   "source": [
    "X_train = iris[:,0:4].astype(np.float) # This contains the training input data\n",
    "y_train = iris[:,-1].astype(np.float) # This contains the training output data\n",
    "print(X_train, y_train)"
   ]
  },
  {
   "cell_type": "code",
   "execution_count": 6,
   "metadata": {},
   "outputs": [
    {
     "data": {
      "image/png": "[encoded data removed]",
      "text/plain": [
       "<Figure size 1152x288 with 4 Axes>"
      ]
     },
     "metadata": {
      "needs_background": "light"
     },
     "output_type": "display_data"
    }
   ],
   "source": [
    "# for our convenient, let's plot the graphs\n",
    "plt.figure(1, figsize = (16, 4))\n",
    "for i in range(1, 5): # Select each data column and plot it against y_train\n",
    "    plt.subplot(1, 4, i)\n",
    "    plt.scatter(X_train[:, i-1], y_train)\n",
    "plt.show()"
   ]
  },
  {
   "cell_type": "code",
   "execution_count": 7,
   "metadata": {},
   "outputs": [
    {
     "data": {
      "image/png": "[encoded data removed]",
      "text/plain": [
       "<Figure size 1152x288 with 4 Axes>"
      ]
     },
     "metadata": {
      "needs_background": "light"
     },
     "output_type": "display_data"
    }
   ],
   "source": [
    "plt.figure(2, figsize=(16, 4))\n",
    "for i in range(1, 5):\n",
    "    plt.subplot(1, 4, i)\n",
    "    plt.hist(X_train[:, i-1], bins=20)\n",
    "plt.show()"
   ]
  },
  {
   "cell_type": "code",
   "execution_count": 8,
   "metadata": {},
   "outputs": [
    {
     "data": {
      "image/png": "[encoded data removed]",
      "text/plain": [
       "<Figure size 1152x288 with 3 Axes>"
      ]
     },
     "metadata": {
      "needs_background": "light"
     },
     "output_type": "display_data"
    }
   ],
   "source": [
    "'''This part of the code is not really useful for anything. \n",
    "   This part is just to plot two input columns in the same plot (Just for practicing)'''\n",
    "plt.figure(1, figsize = (16, 4))\n",
    "for i in range(1, 4):\n",
    "    plt.subplot(1, 3, i)\n",
    "    plt.scatter(X_train[:, i-1], X_train[:, i])\n",
    "plt.show()"
   ]
  },
  {
   "cell_type": "code",
   "execution_count": 9,
   "metadata": {},
   "outputs": [
    {
     "name": "stdout",
     "output_type": "stream",
     "text": [
      "[[5.1 3.5]\n",
      " [4.9 3. ]\n",
      " [4.7 3.2]\n",
      " [4.6 3.1]\n",
      " [5.  3.6]\n",
      " [5.4 3.9]\n",
      " [4.6 3.4]\n",
      " [5.  3.4]\n",
      " [4.4 2.9]\n",
      " [4.9 3.1]\n",
      " [5.4 3.7]\n",
      " [4.8 3.4]\n",
      " [4.8 3. ]\n",
      " [4.3 3. ]\n",
      " [5.8 4. ]\n",
      " [5.7 4.4]\n",
      " [5.4 3.9]\n",
      " [5.1 3.5]\n",
      " [5.7 3.8]\n",
      " [5.1 3.8]\n",
      " [5.4 3.4]\n",
      " [5.1 3.7]\n",
      " [4.6 3.6]\n",
      " [5.1 3.3]\n",
      " [4.8 3.4]\n",
      " [5.  3. ]\n",
      " [5.  3.4]\n",
      " [5.2 3.5]\n",
      " [5.2 3.4]\n",
      " [4.7 3.2]\n",
      " [4.8 3.1]\n",
      " [5.4 3.4]\n",
      " [5.2 4.1]\n",
      " [5.5 4.2]\n",
      " [4.9 3.1]\n",
      " [5.  3.2]\n",
      " [5.5 3.5]\n",
      " [4.9 3.1]\n",
      " [4.4 3. ]\n",
      " [5.1 3.4]\n",
      " [5.  3.5]\n",
      " [4.5 2.3]\n",
      " [4.4 3.2]\n",
      " [5.  3.5]\n",
      " [5.1 3.8]\n",
      " [4.8 3. ]\n",
      " [5.1 3.8]\n",
      " [4.6 3.2]\n",
      " [5.3 3.7]\n",
      " [5.  3.3]\n",
      " [7.  3.2]\n",
      " [6.4 3.2]\n",
      " [6.9 3.1]\n",
      " [5.5 2.3]\n",
      " [6.5 2.8]\n",
      " [5.7 2.8]\n",
      " [6.3 3.3]\n",
      " [4.9 2.4]\n",
      " [6.6 2.9]\n",
      " [5.2 2.7]\n",
      " [5.  2. ]\n",
      " [5.9 3. ]\n",
      " [6.  2.2]\n",
      " [6.1 2.9]\n",
      " [5.6 2.9]\n",
      " [6.7 3.1]\n",
      " [5.6 3. ]\n",
      " [5.8 2.7]\n",
      " [6.2 2.2]\n",
      " [5.6 2.5]\n",
      " [5.9 3.2]\n",
      " [6.1 2.8]\n",
      " [6.3 2.5]\n",
      " [6.1 2.8]\n",
      " [6.4 2.9]\n",
      " [6.6 3. ]\n",
      " [6.8 2.8]\n",
      " [6.7 3. ]\n",
      " [6.  2.9]\n",
      " [5.7 2.6]\n",
      " [5.5 2.4]\n",
      " [5.5 2.4]\n",
      " [5.8 2.7]\n",
      " [6.  2.7]\n",
      " [5.4 3. ]\n",
      " [6.  3.4]\n",
      " [6.7 3.1]\n",
      " [6.3 2.3]\n",
      " [5.6 3. ]\n",
      " [5.5 2.5]\n",
      " [5.5 2.6]\n",
      " [6.1 3. ]\n",
      " [5.8 2.6]\n",
      " [5.  2.3]\n",
      " [5.6 2.7]\n",
      " [5.7 3. ]\n",
      " [5.7 2.9]\n",
      " [6.2 2.9]\n",
      " [5.1 2.5]\n",
      " [5.7 2.8]\n",
      " [6.3 3.3]\n",
      " [5.8 2.7]\n",
      " [7.1 3. ]\n",
      " [6.3 2.9]\n",
      " [6.5 3. ]\n",
      " [7.6 3. ]\n",
      " [4.9 2.5]\n",
      " [7.3 2.9]\n",
      " [6.7 2.5]\n",
      " [7.2 3.6]\n",
      " [6.5 3.2]\n",
      " [6.4 2.7]\n",
      " [6.8 3. ]\n",
      " [5.7 2.5]\n",
      " [5.8 2.8]\n",
      " [6.4 3.2]\n",
      " [6.5 3. ]\n",
      " [7.7 3.8]\n",
      " [7.7 2.6]\n",
      " [6.  2.2]\n",
      " [6.9 3.2]\n",
      " [5.6 2.8]\n",
      " [7.7 2.8]\n",
      " [6.3 2.7]\n",
      " [6.7 3.3]\n",
      " [7.2 3.2]\n",
      " [6.2 2.8]\n",
      " [6.1 3. ]\n",
      " [6.4 2.8]\n",
      " [7.2 3. ]\n",
      " [7.4 2.8]\n",
      " [7.9 3.8]\n",
      " [6.4 2.8]\n",
      " [6.3 2.8]\n",
      " [6.1 2.6]\n",
      " [7.7 3. ]\n",
      " [6.3 3.4]\n",
      " [6.4 3.1]\n",
      " [6.  3. ]\n",
      " [6.9 3.1]\n",
      " [6.7 3.1]\n",
      " [6.9 3.1]\n",
      " [5.8 2.7]\n",
      " [6.8 3.2]\n",
      " [6.7 3.3]\n",
      " [6.7 3. ]\n",
      " [6.3 2.5]\n",
      " [6.5 3. ]\n",
      " [6.2 3.4]\n",
      " [5.9 3. ]] [0. 0. 0. 0. 0. 0. 0. 0. 0. 0. 0. 0. 0. 0. 0. 0. 0. 0. 0. 0. 0. 0. 0. 0.\n",
      " 0. 0. 0. 0. 0. 0. 0. 0. 0. 0. 0. 0. 0. 0. 0. 0. 0. 0. 0. 0. 0. 0. 0. 0.\n",
      " 0. 0. 1. 1. 1. 1. 1. 1. 1. 1. 1. 1. 1. 1. 1. 1. 1. 1. 1. 1. 1. 1. 1. 1.\n",
      " 1. 1. 1. 1. 1. 1. 1. 1. 1. 1. 1. 1. 1. 1. 1. 1. 1. 1. 1. 1. 1. 1. 1. 1.\n",
      " 1. 1. 1. 1. 2. 2. 2. 2. 2. 2. 2. 2. 2. 2. 2. 2. 2. 2. 2. 2. 2. 2. 2. 2.\n",
      " 2. 2. 2. 2. 2. 2. 2. 2. 2. 2. 2. 2. 2. 2. 2. 2. 2. 2. 2. 2. 2. 2. 2. 2.\n",
      " 2. 2. 2. 2. 2. 2.]\n"
     ]
    }
   ],
   "source": [
    "X = X_train[:,0:2] # for the convenient, just take the first two columns. \n",
    "y = y_train # y_train is put into new array y\n",
    "print(X, y)"
   ]
  },
  {
   "cell_type": "code",
   "execution_count": 15,
   "metadata": {},
   "outputs": [],
   "source": [
    "from sklearn import svm # import Support Vector Machine algorithm for classification."
   ]
  },
  {
   "cell_type": "code",
   "execution_count": 16,
   "metadata": {},
   "outputs": [
    {
     "data": {
      "text/plain": [
       "SVC(C=1.0, cache_size=200, class_weight=None, coef0=0.0,\n",
       "  decision_function_shape='ovr', degree=3, gamma='auto_deprecated',\n",
       "  kernel='linear', max_iter=-1, probability=False, random_state=None,\n",
       "  shrinking=True, tol=0.001, verbose=False)"
      ]
     },
     "execution_count": 16,
     "metadata": {},
     "output_type": "execute_result"
    }
   ],
   "source": [
    "clf = svm.SVC(kernel='linear') # construct a classifier as 'clf' \n",
    "clf.fit(X, y) # Fit the model (or Train the data Set)"
   ]
  },
  {
   "cell_type": "code",
   "execution_count": 81,
   "metadata": {},
   "outputs": [],
   "source": [
    "test = np.array([7 ,3]) # Here we create the test data"
   ]
  },
  {
   "cell_type": "code",
   "execution_count": 18,
   "metadata": {},
   "outputs": [
    {
     "data": {
      "text/plain": [
       "array([2.])"
      ]
     },
     "execution_count": 18,
     "metadata": {},
     "output_type": "execute_result"
    }
   ],
   "source": [
    "clf.predict([test]) # predict the data with the classifier \n",
    "#(Answer has been given as [2.] which is analogous to respective type in the oroginal data Set)"
   ]
  },
  {
   "cell_type": "code",
   "execution_count": 14,
   "metadata": {},
   "outputs": [
    {
     "data": {
      "text/plain": [
       "0.82"
      ]
     },
     "execution_count": 14,
     "metadata": {},
     "output_type": "execute_result"
    }
   ],
   "source": [
    "clf.score(X, y) # this returns the quality of the prediction or the accuracy "
   ]
  },
  {
   "cell_type": "code",
   "execution_count": 26,
   "metadata": {},
   "outputs": [],
   "source": [
    "from sklearn import neighbors # Let's try with a different classifier "
   ]
  },
  {
   "cell_type": "code",
   "execution_count": 68,
   "metadata": {},
   "outputs": [],
   "source": [
    "clf_knn = neighbors.KNeighborsClassifier(n_neighbors = 5) # Try to play around with 'n_neighbors'"
   ]
  },
  {
   "cell_type": "code",
   "execution_count": 69,
   "metadata": {},
   "outputs": [
    {
     "data": {
      "text/plain": [
       "KNeighborsClassifier(algorithm='auto', leaf_size=30, metric='minkowski',\n",
       "           metric_params=None, n_jobs=None, n_neighbors=5, p=2,\n",
       "           weights='uniform')"
      ]
     },
     "execution_count": 69,
     "metadata": {},
     "output_type": "execute_result"
    }
   ],
   "source": [
    "clf_knn.fit(X, y)"
   ]
  },
  {
   "cell_type": "code",
   "execution_count": 70,
   "metadata": {},
   "outputs": [
    {
     "data": {
      "text/plain": [
       "array([2.])"
      ]
     },
     "execution_count": 70,
     "metadata": {},
     "output_type": "execute_result"
    }
   ],
   "source": [
    "clf_knn.predict([test])"
   ]
  },
  {
   "cell_type": "code",
   "execution_count": 71,
   "metadata": {},
   "outputs": [
    {
     "data": {
      "text/plain": [
       "0.8333333333333334"
      ]
     },
     "execution_count": 71,
     "metadata": {},
     "output_type": "execute_result"
    }
   ],
   "source": [
    "clf_knn.score(X, y)"
   ]
  }
 ],
 "metadata": {
  "kernelspec": {
   "display_name": "Python 3",
   "language": "python",
   "name": "python3"
  },
  "language_info": {
   "codemirror_mode": {
    "name": "ipython",
    "version": 3
   },
   "file_extension": ".py",
   "mimetype": "text/x-python",
   "name": "python",
   "nbconvert_exporter": "python",
   "pygments_lexer": "ipython3",
   "version": "3.7.1"
  }
 },
 "nbformat": 4,
 "nbformat_minor": 2
}
